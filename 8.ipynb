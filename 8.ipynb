{
 "cells": [
  {
   "cell_type": "markdown",
   "metadata": {},
   "source": [
    "# ¡Hola Deisy! 😊\n",
    "\n",
    "Mi nombre es **Alejandro Castellanos** y hoy tengo el placer de ser el revisor de tu proyecto.\n",
    "\n",
    "Voy a revisar todo tu código con detalle, buscando tanto los puntos fuertes como aquellos en los que podrías mejorar. Te dejaré comentarios a lo largo del notebook, destacando lo que has hecho bien y sugiriendo ajustes donde sea necesario. Si encuentro algún error, no te preocupes, te lo haré saber de forma clara y te daré información útil para que puedas corregirlo en la próxima iteración. Si en algún punto tienes comentarios, siéntete libre de dejarlos también.\n",
    "\n",
    "\n",
    "Encontrarás mis comentarios específicos dentro de cajas verdes, amarillas o rojas, es muy importante que no muevas, modifiques o borres mis comentarios, con el fin de tener un seguimiento adecuado de tu proceso:\n",
    "\n",
    "\n",
    "<div class=\"alert alert-block alert-success\">\n",
    "<b>Comentario del revisor</b> <a class=“tocSkip”></a>\n",
    "Si todo está perfecto.\n",
    "</div>\n",
    "\n",
    "<div class=\"alert alert-block alert-warning\">\n",
    "<b>Comentario del revisor</b> <a class=“tocSkip”></a>\n",
    "Si tu código está bien pero se puede mejorar o hay algún detalle que le hace falta.\n",
    "</div>\n",
    "\n",
    "<div class=\"alert alert-block alert-danger\">\n",
    "<b>Comentario del revisor</b> <a class=“tocSkip”></a>\n",
    "Si de pronto hace falta algo o existe algún problema con tu código o conclusiones.\n",
    "</div>\n",
    "\n",
    "Puedes responderme de esta forma:\n",
    "<div class=\"alert alert-block alert-info\">\n",
    "<b>Respuesta del estudiante</b> <a class=“tocSkip”></a>\n",
    "</div>\n",
    "\n",
    "A continuación te dejaré un comentario general con mi valoración del proyecto. **¡Mi objetivo es que sigas aprendiendo y mejorando con cada paso!**"
   ]
  },
  {
   "cell_type": "markdown",
   "metadata": {},
   "source": [
    "----"
   ]
  },
  {
   "cell_type": "markdown",
   "metadata": {},
   "source": [
    "<div class=\"alert alert-block alert-success\">\n",
    "<b>Comentario General del revisor (1ra Iteración)</b> <a class=“tocSkip”></a>\n",
    "    \n",
    "Deisy completaste todas las tareas propuestas para el proyecto de manera sobresaliente. Demostraste un excelente manejo de las herramientas de visualización de datos y un notable dominio en la prueba de hipótesis, lo cual fortalece notablemente tu análisis, el cual lograste plantear de una manera muy acertada. Continúa desarrollando estas habilidades, ya que estás en el camino correcto para lograr aún más en futuros proyectos. Éxitos en tu próximo sprint 🚀\n",
    "\n",
    "*Estado del Proyecto:* **Aprobado** \n",
    "</div>"
   ]
  },
  {
   "cell_type": "markdown",
   "metadata": {},
   "source": [
    "----"
   ]
  },
  {
   "cell_type": "markdown",
   "metadata": {},
   "source": [
    "# PROYECTO SPRINT 8 - EMPRESA ZUBER\n",
    "\n",
    "Descripción del proyecto:\n",
    "\n",
    "Zuber es una nueva empresa de viajes compartidos que se está lanzando en Chicago. En el presente proyecto se deben encontrar patrones en la información disponible para comprender las preferencias de los pasajeros y el impacto de los factores externos en los viajes.\n",
    "\n",
    "Con la información disponible, se realizará el análisis de los datos de los competidores y se probará una hipótesis sobre el impacto del clima en la frecuencia de los viajes. Para llevar a cabo el proyecto, se desarollarán los siguientes pasos:\n",
    "\n",
    "Análisis exploratorio de datos (Python)\n",
    "\n",
    "1. Importar librerías\n",
    "2. Cargar las tablas de datos\n",
    "3. Explorar los datos:\n",
    "- project_sql_result_01.csv con los siguientes datos:\n",
    "    - company_name: nombre de la empresa de taxis\n",
    "    - Trips_amount: el número de viajes de cada compañía de taxis el 15 y 16 de noviembre de 2017. \n",
    "- project_sql_result_04.csv con los siguientes datos:\n",
    "    - dropoff_location_name: barrios de Chicago donde finalizaron los viajes\n",
    "    - average_trips: el promedio de viajes que terminaron en cada barrio en noviembre de 2017.\n",
    "- project_sql_result_07.csv\n",
    "    - start_ts: fecha y hora de la recogida\n",
    "    - weather_conditions: condiciones climáticas en el momento en el que comenzó el viaje\n",
    "    - duration_seconds: duración del viaje en segundos\n",
    "4. Modificar tipos de datos\n",
    "5. Identificar las 10 empresas con más viajes finalizados - graficar - analizar.\n",
    "6. Identificar los 10 barrios con más finalizaciones de viaje - graficar - analizar.\n",
    "7. Prueba de hipótesis:\n",
    "- \"La duración promedio de los viajes desde el Loop hasta el Aeropuerto Internacional O'Hare cambia los sábados lluviosos\".\n",
    "- Hipótesis nula y alternativa.\n",
    "- Nivel de significación (alfa).\n",
    "- Criterio para probar las hipótesis.\n",
    "8. Conclusión"
   ]
  },
  {
   "cell_type": "markdown",
   "metadata": {},
   "source": [
    "<div class=\"alert alert-block alert-success\">\n",
    "<b>Comentario del revisor (1ra Iteración)</b> <a class=“tocSkip”></a>\n",
    "\n",
    "¡Gran Idea! El uso de una tabla de contenido es una excelente estrategia para mejorar la estructura del notebook y facilitar su revisión. \n",
    "\n",
    "</div>"
   ]
  },
  {
   "cell_type": "markdown",
   "metadata": {},
   "source": [
    "# Análisis exploratorio de datos"
   ]
  },
  {
   "cell_type": "markdown",
   "metadata": {},
   "source": [
    "## 🔹 Importar librerías:"
   ]
  },
  {
   "cell_type": "code",
   "execution_count": 1,
   "metadata": {},
   "outputs": [],
   "source": [
    "# Importar librerías:\n",
    "import pandas as pd\n",
    "import matplotlib.pyplot as plt\n",
    "import seaborn as sns\n",
    "import scipy.stats as st"
   ]
  },
  {
   "cell_type": "markdown",
   "metadata": {},
   "source": [
    "## 🔹 Cargar las tablas de datos"
   ]
  },
  {
   "cell_type": "code",
   "execution_count": 2,
   "metadata": {
    "scrolled": true
   },
   "outputs": [],
   "source": [
    "# Cargar las tablas:\n",
    "df_taxis = pd.read_csv('/datasets/project_sql_result_01.csv')  # Tabla empresas de taxis\n",
    "df_barrios = pd.read_csv('/datasets/project_sql_result_04.csv')  # Tabla barrios\n",
    "df_viajes = pd.read_csv('/datasets/project_sql_result_07.csv')  # Tabla viajes Loop a Aeropuerto"
   ]
  },
  {
   "cell_type": "markdown",
   "metadata": {},
   "source": [
    "## 🔹 Explorar los datos"
   ]
  },
  {
   "cell_type": "code",
   "execution_count": 3,
   "metadata": {
    "scrolled": true
   },
   "outputs": [
    {
     "name": "stdout",
     "output_type": "stream",
     "text": [
      "<class 'pandas.core.frame.DataFrame'>\n",
      "RangeIndex: 64 entries, 0 to 63\n",
      "Data columns (total 2 columns):\n",
      " #   Column        Non-Null Count  Dtype \n",
      "---  ------        --------------  ----- \n",
      " 0   company_name  64 non-null     object\n",
      " 1   trips_amount  64 non-null     int64 \n",
      "dtypes: int64(1), object(1)\n",
      "memory usage: 1.1+ KB\n",
      "None\n",
      "\n",
      "                         company_name  trips_amount\n",
      "63        3556 - 36214 RC Andrews Cab             2\n",
      "40        6574 - Babylon Express Inc.            31\n",
      "3                          Yellow Cab          9888\n",
      "9   Blue Ribbon Taxi Association Inc.          5953\n",
      "8           Star North Management LLC          7455\n"
     ]
    }
   ],
   "source": [
    "# Visualizar información de la tabla df_taxis:\n",
    "print(df_taxis.info())\n",
    "print()\n",
    "print(df_taxis.sample(5))"
   ]
  },
  {
   "cell_type": "markdown",
   "metadata": {},
   "source": [
    "Al examinar los datos de esta tabla, observo que en ninguna de sus columnas hay valores ausentes, además los tipos de datos me parecen correctos."
   ]
  },
  {
   "cell_type": "code",
   "execution_count": 4,
   "metadata": {},
   "outputs": [
    {
     "name": "stdout",
     "output_type": "stream",
     "text": [
      "<class 'pandas.core.frame.DataFrame'>\n",
      "RangeIndex: 94 entries, 0 to 93\n",
      "Data columns (total 2 columns):\n",
      " #   Column                 Non-Null Count  Dtype  \n",
      "---  ------                 --------------  -----  \n",
      " 0   dropoff_location_name  94 non-null     object \n",
      " 1   average_trips          94 non-null     float64\n",
      "dtypes: float64(1), object(1)\n",
      "memory usage: 1.6+ KB\n",
      "None\n",
      "\n",
      "   dropoff_location_name  average_trips\n",
      "72         South Chicago      13.000000\n",
      "0                   Loop   10727.466667\n",
      "54        North Lawndale      32.166667\n",
      "10          Lincoln Park    1246.533333\n",
      "73          Chicago Lawn      12.266667\n"
     ]
    }
   ],
   "source": [
    "# Visualizar información de la tabla df_barrios:\n",
    "print(df_barrios.info())\n",
    "print()\n",
    "print(df_barrios.sample(5))"
   ]
  },
  {
   "cell_type": "markdown",
   "metadata": {},
   "source": [
    "Al examinar los datos de esta tabla, observo que en ninguna de sus columnas hay valores ausentes, además los tipos de datos me parecen correctos."
   ]
  },
  {
   "cell_type": "code",
   "execution_count": 5,
   "metadata": {},
   "outputs": [
    {
     "name": "stdout",
     "output_type": "stream",
     "text": [
      "<class 'pandas.core.frame.DataFrame'>\n",
      "RangeIndex: 1068 entries, 0 to 1067\n",
      "Data columns (total 3 columns):\n",
      " #   Column              Non-Null Count  Dtype  \n",
      "---  ------              --------------  -----  \n",
      " 0   start_ts            1068 non-null   object \n",
      " 1   weather_conditions  1068 non-null   object \n",
      " 2   duration_seconds    1068 non-null   float64\n",
      "dtypes: float64(1), object(2)\n",
      "memory usage: 25.2+ KB\n",
      "None\n",
      "\n",
      "                start_ts weather_conditions  duration_seconds\n",
      "537  2017-11-11 10:00:00               Good            1432.0\n",
      "473  2017-11-11 17:00:00               Good            2193.0\n",
      "277  2017-11-18 04:00:00               Good            1737.0\n",
      "124  2017-11-11 10:00:00               Good            1380.0\n",
      "47   2017-11-18 06:00:00               Good            1742.0\n"
     ]
    }
   ],
   "source": [
    "# Visualizar información de la tabla df_viajes:\n",
    "print(df_viajes.info())\n",
    "print()\n",
    "print(df_viajes.sample(5))"
   ]
  },
  {
   "cell_type": "markdown",
   "metadata": {},
   "source": [
    "Al examinar los datos de esta tabla, observo que en ninguna de sus columnas hay valores ausentes, al observar los tipos de datos, veo que es necesario modificar el tipo de datos de la columna 'start_ts' a datetime, ya que son datos de fecha y hora."
   ]
  },
  {
   "cell_type": "markdown",
   "metadata": {},
   "source": [
    "<div class=\"alert alert-block alert-success\">\n",
    "<b>Comentario del revisor (1ra Iteración)</b> <a class=“tocSkip”></a>\n",
    "\n",
    "Muy buen trabajo importando las librerías y los datasets del proyecto. Adicionalmente usaste correctamente las funciones `info` y `sample`, esto te permite hacer una primera revisión de los datos, su estructura y contenido. Con esta información, podemos establecer una hoja de ruta para ajustar, modificar y analizar los datos de una manera adecuada.\n",
    "\n",
    "</div>"
   ]
  },
  {
   "cell_type": "markdown",
   "metadata": {},
   "source": [
    "## 🔹 Modificar tipos de datos"
   ]
  },
  {
   "cell_type": "code",
   "execution_count": 6,
   "metadata": {},
   "outputs": [
    {
     "name": "stdout",
     "output_type": "stream",
     "text": [
      "<class 'pandas.core.frame.DataFrame'>\n",
      "RangeIndex: 1068 entries, 0 to 1067\n",
      "Data columns (total 3 columns):\n",
      " #   Column              Non-Null Count  Dtype         \n",
      "---  ------              --------------  -----         \n",
      " 0   start_ts            1068 non-null   datetime64[ns]\n",
      " 1   weather_conditions  1068 non-null   object        \n",
      " 2   duration_seconds    1068 non-null   float64       \n",
      "dtypes: datetime64[ns](1), float64(1), object(1)\n",
      "memory usage: 25.2+ KB\n"
     ]
    }
   ],
   "source": [
    "# Convertir la columna de fecha a tipo datetime en df_viajes y visualizar\n",
    "df_viajes['start_ts'] = pd.to_datetime(df_viajes['start_ts'])\n",
    "df_viajes.info()"
   ]
  },
  {
   "cell_type": "markdown",
   "metadata": {},
   "source": [
    "<div class=\"alert alert-block alert-success\">\n",
    "<b>Comentario del revisor (1ra Iteración)</b> <a class=“tocSkip”></a>\n",
    "\n",
    "Perfecto Deisy, hacer este tipo de ajustes en los datos evita que tengamos problemas más adelante.\n",
    "\n",
    "</div>"
   ]
  },
  {
   "cell_type": "markdown",
   "metadata": {},
   "source": [
    "## 🔹 Identificar las 10 empresas con más viajes"
   ]
  },
  {
   "cell_type": "code",
   "execution_count": 7,
   "metadata": {},
   "outputs": [
    {
     "name": "stdout",
     "output_type": "stream",
     "text": [
      "                        company_name  trips_amount\n",
      "0                          Flash Cab         19558\n",
      "1          Taxi Affiliation Services         11422\n",
      "2                  Medallion Leasing         10367\n",
      "3                         Yellow Cab          9888\n",
      "4    Taxi Affiliation Service Yellow          9299\n",
      "5          Chicago Carriage Cab Corp          9181\n",
      "6                       City Service          8448\n",
      "7                           Sun Taxi          7701\n",
      "8          Star North Management LLC          7455\n",
      "9  Blue Ribbon Taxi Association Inc.          5953\n"
     ]
    }
   ],
   "source": [
    "# Ordenar por trips_amount, seleccionar las 10 principales empresas y mostrar los resultados:\n",
    "top_empresas = df_taxis.sort_values(by='trips_amount', ascending=False).head(10)\n",
    "print(top_empresas)"
   ]
  },
  {
   "cell_type": "markdown",
   "metadata": {},
   "source": [
    "### 🔹 Gráfico: Empresas vs. Número de viajes"
   ]
  },
  {
   "cell_type": "code",
   "execution_count": 8,
   "metadata": {},
   "outputs": [
    {
     "data": {
      "image/png": "[encoded data removed]",
      "text/plain": [
       "<Figure size 1200x600 with 1 Axes>"
      ]
     },
     "metadata": {},
     "output_type": "display_data"
    }
   ],
   "source": [
    "# Configuración de estilo\n",
    "plt.figure(figsize=(12, 6))\n",
    "sns.barplot(\n",
    "    data=top_empresas, \n",
    "    x=\"trips_amount\", \n",
    "    y=\"company_name\", \n",
    "    palette=\"viridis\"\n",
    ")\n",
    "\n",
    "# Etiquetas y título\n",
    "plt.xlabel(\"Número de viajes\", fontsize=12)\n",
    "plt.ylabel(\"Empresa de taxis\", fontsize=12)\n",
    "plt.title(\"Top 10 Empresas de Taxis por Cantidad de Viajes\", fontsize=14)\n",
    "plt.grid(axis=\"x\", linestyle=\"--\", alpha=0.7)\n",
    "\n",
    "# Mostrar gráfico\n",
    "plt.show()"
   ]
  },
  {
   "cell_type": "markdown",
   "metadata": {},
   "source": [
    "Análisis del gráfico de empresas de taxis:\n",
    "- Flash Cab domina el mercado: Esta empresa tiene una cantidad significativamente mayor de viajes en comparación con las demás, lo que sugiere una gran presencia o flota en la ciudad.\n",
    "- Diferencia notable entre el primer y segundo lugar: Taxi Affiliation Services tiene una cantidad considerable de viajes, pero aún así está muy por debajo de Flash Cab.\n",
    "- Competencia ajustada en los puestos intermedios: Medallion Leasing, Yellow Cab y otras empresas tienen volúmenes de viajes más similares, lo que indica una competencia más equilibrada en este segmento.\n",
    "- El número 10 está significativamente más abajo: Blue Ribbon Taxi Association Inc. tiene mucho menos viajes que el líder, lo que indica que hay una gran disparidad entre las empresas más grandes y las más pequeñas."
   ]
  },
  {
   "cell_type": "markdown",
   "metadata": {},
   "source": [
    "<div class=\"alert alert-block alert-success\">\n",
    "<b>Comentario del revisor (1ra Iteración)</b> <a class=“tocSkip”></a>\n",
    "\n",
    "Muy buen trabajo mostrando los datos del TOP 10 de empresas. Has realizado un buen análisis del gráfico al identificar claramente la empresa dominante en el mercado y la brecha significativa entre los primeros puestos. También es acertado destacar la competencia más equilibrada en los niveles intermedios y la gran disparidad con las empresas más pequeñas. Para fortalecer futuros análisis, podrías explorar posibles factores que expliquen estas diferencias, como la cantidad de vehículos en operación, estrategias comerciales o zonas de cobertura. ¡Buen trabajo!\n",
    "\n",
    "</div>"
   ]
  },
  {
   "cell_type": "markdown",
   "metadata": {},
   "source": [
    "## 🔹 Identificar los 10 barrios con más finalizaciones de viaje"
   ]
  },
  {
   "cell_type": "code",
   "execution_count": 9,
   "metadata": {},
   "outputs": [
    {
     "name": "stdout",
     "output_type": "stream",
     "text": [
      "  dropoff_location_name  average_trips\n",
      "0                  Loop   10727.466667\n",
      "1           River North    9523.666667\n",
      "2         Streeterville    6664.666667\n",
      "3             West Loop    5163.666667\n",
      "4                O'Hare    2546.900000\n",
      "5             Lake View    2420.966667\n",
      "6            Grant Park    2068.533333\n",
      "7         Museum Campus    1510.000000\n",
      "8            Gold Coast    1364.233333\n",
      "9    Sheffield & DePaul    1259.766667\n"
     ]
    }
   ],
   "source": [
    "# Ordenar por average_trips, seleccionar los 10 principales barrios y mostrar los resultados\n",
    "top_barrios = df_barrios.sort_values(by='average_trips', ascending=False).head(10)\n",
    "print(top_barrios)"
   ]
  },
  {
   "cell_type": "markdown",
   "metadata": {},
   "source": [
    "### 🔹 Gráfico: Barrios por viajes finalizados"
   ]
  },
  {
   "cell_type": "code",
   "execution_count": 10,
   "metadata": {},
   "outputs": [
    {
     "data": {
      "image/png": "[encoded data removed]",
      "text/plain": [
       "<Figure size 1200x600 with 1 Axes>"
      ]
     },
     "metadata": {},
     "output_type": "display_data"
    }
   ],
   "source": [
    "# Creación del gráfico\n",
    "plt.figure(figsize=(12, 6))\n",
    "sns.barplot(\n",
    "    data=top_barrios, \n",
    "    x=\"average_trips\", \n",
    "    y=\"dropoff_location_name\", \n",
    "    palette=\"viridis\"\n",
    ")\n",
    "\n",
    "# Etiquetas y título\n",
    "plt.xlabel(\"Promedio de viajes finalizados\", fontsize=12)\n",
    "plt.ylabel(\"Barrio\", fontsize=12)\n",
    "plt.title(\"Top 10 Barrios por Finalización de Viajes\", fontsize=14)\n",
    "plt.grid(axis=\"x\", linestyle=\"--\", alpha=0.7)\n",
    "\n",
    "# Mostrar gráfico\n",
    "plt.show()"
   ]
  },
  {
   "cell_type": "markdown",
   "metadata": {},
   "source": [
    "Análisis del gráfico de barrios con más finalización de viajes\n",
    "- Loop es el barrio con más viajes finalizados: Esto sugiere que es un área de alta demanda, posiblemente un centro de negocios o turístico.\n",
    "- River North y Streeterville también son puntos clave: Estos barrios tienen una alta cantidad de viajes, lo que podría indicar zonas comerciales, de entretenimiento o turísticas.\n",
    "- West Loop sigue de cerca, pero hay una caída progresiva: Se observa que la cantidad de viajes baja después de los primeros cuatro barrios, lo que sugiere que la actividad de taxis está más concentrada en ciertas zonas.\n",
    "- O'Hare destaca como único aeropuerto en la lista: Esto confirma que hay una gran cantidad de viajes finalizados en el aeropuerto, aunque en menor proporción en comparación con los barrios céntricos."
   ]
  },
  {
   "cell_type": "markdown",
   "metadata": {},
   "source": [
    "<div class=\"alert alert-block alert-success\">\n",
    "<b>Comentario del revisor (1ra Iteración)</b> <a class=“tocSkip”></a>\n",
    "\n",
    "Excelente Daisy, has identificado correctamente las zonas con mayor demanda de taxis, resaltando la importancia del Loop como centro de actividad y la relevancia de River North y Streeterville. También es valioso notar la concentración del servicio en ciertas áreas y el papel de O'Hare como punto clave de finalización de viajes. Para mejorar tu análisis en futuros proyecto, podrías considerar factores adicionales como horarios de mayor demanda o la influencia de eventos específicos en estos patrones. ¡Buen trabajo!\n",
    "\n",
    "</div>"
   ]
  },
  {
   "cell_type": "markdown",
   "metadata": {},
   "source": [
    "## 🔹 Prueba de hipótesis:"
   ]
  },
  {
   "cell_type": "markdown",
   "metadata": {},
   "source": [
    "1. Hipótesis: \n",
    "\"La duración promedio de los viajes desde el Loop hasta el Aeropuerto Internacional O'Hare cambia los sábados lluviosos\".\n",
    "\n",
    "2. Hipótesis nula y alternativa:\n",
    "- Hipótesis nula (Ho): La duración promedio de los viajes desde el Loop hasta el Aeropuerto Internacional O'Hare no cambia en los sábados lluviosos.\n",
    "- Hipótesis alternativa (Ha): La duración promedio de los viajes desde el Loop hasta el Aeropuerto Internacional O'Hare cambia en los sábados lluviosos.\n",
    "\n",
    "3. Criterio de prueba\n",
    "Voy a probar la hipótesis utilizando:\n",
    "- Prueba de Levene para verificar si las varianzas de los grupos (sábados lluviosos y otros sábados) son iguales.\n",
    "- Prueba t de Student (t-test) para comparar las medias de las duraciones de los viajes en ambos grupos.\n",
    "\n",
    "4. Nivel de significación (α)\n",
    "Elegí el nivel de significancia 0.05, ya que es un valor común (5%), lo cual significa que estamos dispuestos a aceptar un 5%.\n"
   ]
  },
  {
   "cell_type": "code",
   "execution_count": 11,
   "metadata": {},
   "outputs": [
    {
     "name": "stdout",
     "output_type": "stream",
     "text": [
      "Prueba de Levene - Estadístico: 0.3885, p-valor: 0.5332\n",
      "Prueba t de Student - Estadístico: 6.9462, p-valor: 0.0000\n",
      "Rechazamos la hipótesis nula: la duración promedio de los viajes sí cambia los sábados lluviosos.\n"
     ]
    }
   ],
   "source": [
    "# Filtrar solo los sábados\n",
    "df_viajes['day_of_week'] = df_viajes['start_ts'].dt.day_name()\n",
    "df_sabados = df_viajes[df_viajes['day_of_week'] == \"Saturday\"]\n",
    "\n",
    "# Separar en dos grupos: sábados lluviosos y otros sábados\n",
    "sabados_lluviosos = df_sabados[df_sabados['weather_conditions'] == \"Bad\"]['duration_seconds']\n",
    "otros_sabados = df_sabados[df_sabados['weather_conditions'] == \"Good\"]['duration_seconds']\n",
    "\n",
    "# Prueba de Levene para igualdad de varianzas\n",
    "stat_levene, p_levene = st.levene(sabados_lluviosos, otros_sabados)\n",
    "print(f\"Prueba de Levene - Estadístico: {stat_levene:.4f}, p-valor: {p_levene:.4f}\")\n",
    "\n",
    "# Prueba t de Student (usando equal_var según el resultado de Levene)\n",
    "equal_var = p_levene > 0.05  # Si p > 0.05 asumimos igualdad de varianzas\n",
    "stat_ttest, p_ttest = st.ttest_ind(sabados_lluviosos, otros_sabados, equal_var=equal_var)\n",
    "print(f\"Prueba t de Student - Estadístico: {stat_ttest:.4f}, p-valor: {p_ttest:.4f}\")\n",
    "\n",
    "# Interpretación de los resultados\n",
    "alpha = 0.05\n",
    "if p_ttest < alpha:\n",
    "    print(\"Rechazamos la hipótesis nula: la duración promedio de los viajes sí cambia los sábados lluviosos.\")\n",
    "else:\n",
    "    print(\"No podemos rechazar la hipótesis nula: no hay evidencia suficiente para decir que la duración cambia los sábados lluviosos.\")"
   ]
  },
  {
   "cell_type": "markdown",
   "metadata": {},
   "source": [
    "Para realizar la prueba de hipótesis:\n",
    "- Se realizó la división en grupos: dos grupos de duración del viaje según las condiciones climáticas.\n",
    "- Se realizó la prueba de Levene: Se verifica si las varianzas son iguales para decidir el tipo de prueba t.\n",
    "- Se realixó la prueba t de Student: Se compara la duración promedio de los viajes en ambos grupos.\n",
    "- Interpretación: Dependiendo del valor de p, se decide si la hipótesis nula se rechaza o no."
   ]
  },
  {
   "cell_type": "markdown",
   "metadata": {},
   "source": [
    "Análisis de las Pruebas de Hipótesis\n",
    "1. Prueba de Levene\n",
    "Como el p-valor es mayor que 0.05, no hay evidencia suficiente para rechazar la hipótesis nula de igualdad de varianzas, esto significa que podemos asumir que las varianzas en ambas condiciones son similares y podemos proceder con la prueba t de Student estándar.\n",
    "\n",
    "2. Prueba t de Student\n",
    "Un p-valor de 0.0000 indica que la diferencia entre las medias es altamente significativa.\n",
    "Dado que este valor es mucho menor que el nivel de significancia, rechazamos la hipótesis nula y aceptamos la hipótesis alternativa."
   ]
  },
  {
   "cell_type": "markdown",
   "metadata": {},
   "source": [
    "<div class=\"alert alert-block alert-success\">\n",
    "<b>Comentario del revisor (1ra Iteración)</b> <a class=“tocSkip”></a>\n",
    "\n",
    "Has realizado un magnífico trabajo implementando la prueba de hipótesis. Hiciste una correcta filtración de los datos, para crear los subconjuntos que comparaste. Adicionalmente, realizaste la prueba de Levene para verificar la igualdad de las varianzas, esto es un detalle clave que evidencia tu atención al detalle en este tipo de análisis ¡Sique Así!\n",
    "\n",
    "</div>"
   ]
  },
  {
   "cell_type": "markdown",
   "metadata": {},
   "source": [
    "## 🔹 Conclusiones"
   ]
  },
  {
   "cell_type": "markdown",
   "metadata": {},
   "source": [
    "Conclusión general de los gráficos:\n",
    "- La concentración del mercado se encuentra en pocas empresas: Flash Cab y Taxi Affiliation Services controlan una gran parte del mercado, lo que sugiere que estas empresas podrían ser las principales proveedoras de servicios en los barrios más transitados.\n",
    "- Ya que Loop y River North tienen la mayor cantidad de viajes finalizados, es probable que estas zonas sean el foco de las principales empresas de taxis.\n",
    "- Barrios céntricos, comerciales y el aeropuerto parecen ser los principales puntos de finalización de viajes, lo que sugiere que el taxi es un medio clave para ejecutivos y turistas.\n",
    "- Algunas compañías de taxis con menor cantidad de viajes podrían enfocarse en barrios menos saturados para captar una parte del mercado.\n",
    "- En general, estos gráficos sugieren que la industria del taxi en Chicago está dominada por unas pocas empresas y que la mayor demanda se encuentra en el centro de la ciudad y en el aeropuerto."
   ]
  },
  {
   "cell_type": "markdown",
   "metadata": {},
   "source": [
    "Conclusión de las Pruebas de Hipótesis:\n",
    "- La duración promedio de los viajes desde el Loop hasta el Aeropuerto Internacional O'Hare sí cambia en los sábados lluviosos.\n",
    "- Es probable que la lluvia provoque más tráfico o condiciones de conducción más lentas, afectando la duración de los viajes.\n",
    "- Podría ser útil analizar más datos, como la hora del día o la intensidad de la lluvia, para determinar si el efecto es más pronunciado en ciertos momentos.\n",
    "- Este hallazgo puede ser relevante si la empresa ZUBER quiere ofrecer u optimizar rutas o tarifas en función del clima."
   ]
  },
  {
   "cell_type": "markdown",
   "metadata": {},
   "source": [
    "<div class=\"alert alert-block alert-success\">\n",
    "<b>Comentario del revisor (1ra Iteración)</b> <a class=“tocSkip”></a>\n",
    "\n",
    "Genial Deisy, has realizado un análisis sólido de la concentración del mercado y los patrones de demanda en la industria del taxi, destacando correctamente la dominancia de unas pocas empresas y la importancia de los barrios céntricos y el aeropuerto. Además, tu conclusión sobre la duración de los viajes en días lluviosos es acertada y bien fundamentada, señalando el impacto del clima en el tráfico. Para análisis más detallados, podrías profundizar en otros factores como la variabilidad horaria o la influencia de eventos específicos en la demanda y duración de los viajes.\n",
    "\n",
    "</div>"
   ]
  }
 ],
 "metadata": {
  "ExecuteTimeLog": [
   {
    "duration": 290,
    "start_time": "2025-01-31T23:35:08.306Z"
   },
   {
    "duration": 2301,
    "start_time": "2025-01-31T23:44:35.385Z"
   },
   {
    "duration": 873,
    "start_time": "2025-01-31T23:44:46.045Z"
   },
   {
    "duration": 17,
    "start_time": "2025-01-31T23:45:55.209Z"
   },
   {
    "duration": 15,
    "start_time": "2025-01-31T23:48:35.821Z"
   },
   {
    "duration": 16,
    "start_time": "2025-01-31T23:48:59.981Z"
   },
   {
    "duration": 11,
    "start_time": "2025-01-31T23:49:09.829Z"
   },
   {
    "duration": 12,
    "start_time": "2025-01-31T23:49:37.567Z"
   },
   {
    "duration": 835,
    "start_time": "2025-01-31T23:49:57.005Z"
   },
   {
    "duration": 13,
    "start_time": "2025-01-31T23:49:57.843Z"
   },
   {
    "duration": 10,
    "start_time": "2025-01-31T23:49:57.858Z"
   },
   {
    "duration": 10,
    "start_time": "2025-01-31T23:49:57.871Z"
   },
   {
    "duration": 8,
    "start_time": "2025-01-31T23:50:15.561Z"
   },
   {
    "duration": 7,
    "start_time": "2025-01-31T23:50:30.345Z"
   },
   {
    "duration": 9,
    "start_time": "2025-01-31T23:50:56.184Z"
   },
   {
    "duration": 7,
    "start_time": "2025-01-31T23:51:09.135Z"
   },
   {
    "duration": 12,
    "start_time": "2025-01-31T23:51:22.317Z"
   },
   {
    "duration": 11,
    "start_time": "2025-01-31T23:51:36.961Z"
   },
   {
    "duration": 13,
    "start_time": "2025-01-31T23:52:06.438Z"
   },
   {
    "duration": 836,
    "start_time": "2025-01-31T23:52:30.595Z"
   },
   {
    "duration": 14,
    "start_time": "2025-01-31T23:52:31.433Z"
   },
   {
    "duration": 12,
    "start_time": "2025-01-31T23:52:31.450Z"
   },
   {
    "duration": 13,
    "start_time": "2025-01-31T23:52:31.465Z"
   },
   {
    "duration": 22,
    "start_time": "2025-01-31T23:53:23.206Z"
   },
   {
    "duration": 796,
    "start_time": "2025-01-31T23:56:03.421Z"
   },
   {
    "duration": 17,
    "start_time": "2025-01-31T23:56:04.220Z"
   },
   {
    "duration": 12,
    "start_time": "2025-01-31T23:56:04.239Z"
   },
   {
    "duration": 12,
    "start_time": "2025-01-31T23:56:04.253Z"
   },
   {
    "duration": 4,
    "start_time": "2025-01-31T23:56:04.267Z"
   },
   {
    "duration": 4,
    "start_time": "2025-02-01T00:00:42.980Z"
   },
   {
    "duration": 868,
    "start_time": "2025-02-01T00:00:49.082Z"
   },
   {
    "duration": 15,
    "start_time": "2025-02-01T00:00:49.952Z"
   },
   {
    "duration": 12,
    "start_time": "2025-02-01T00:00:49.968Z"
   },
   {
    "duration": 12,
    "start_time": "2025-02-01T00:00:49.982Z"
   },
   {
    "duration": 3,
    "start_time": "2025-02-01T00:00:49.996Z"
   },
   {
    "duration": 6,
    "start_time": "2025-02-01T00:00:50.001Z"
   },
   {
    "duration": 887,
    "start_time": "2025-02-01T00:03:03.944Z"
   },
   {
    "duration": 11,
    "start_time": "2025-02-01T00:03:04.833Z"
   },
   {
    "duration": 11,
    "start_time": "2025-02-01T00:03:04.846Z"
   },
   {
    "duration": 9,
    "start_time": "2025-02-01T00:03:04.860Z"
   },
   {
    "duration": 10,
    "start_time": "2025-02-01T00:03:04.871Z"
   },
   {
    "duration": 4,
    "start_time": "2025-02-01T00:03:04.883Z"
   },
   {
    "duration": 5,
    "start_time": "2025-02-01T00:03:04.888Z"
   },
   {
    "duration": 5,
    "start_time": "2025-02-01T00:04:52.050Z"
   },
   {
    "duration": 860,
    "start_time": "2025-02-01T00:05:02.362Z"
   },
   {
    "duration": 12,
    "start_time": "2025-02-01T00:05:03.224Z"
   },
   {
    "duration": 10,
    "start_time": "2025-02-01T00:05:03.239Z"
   },
   {
    "duration": 9,
    "start_time": "2025-02-01T00:05:03.251Z"
   },
   {
    "duration": 11,
    "start_time": "2025-02-01T00:05:03.262Z"
   },
   {
    "duration": 7,
    "start_time": "2025-02-01T00:05:03.275Z"
   },
   {
    "duration": 6,
    "start_time": "2025-02-01T00:05:03.284Z"
   },
   {
    "duration": 6,
    "start_time": "2025-02-01T00:05:03.291Z"
   },
   {
    "duration": 2528,
    "start_time": "2025-02-01T15:42:30.083Z"
   },
   {
    "duration": 22,
    "start_time": "2025-02-01T15:42:32.614Z"
   },
   {
    "duration": 12,
    "start_time": "2025-02-01T15:42:32.638Z"
   },
   {
    "duration": 10,
    "start_time": "2025-02-01T15:42:32.652Z"
   },
   {
    "duration": 9,
    "start_time": "2025-02-01T15:42:32.664Z"
   },
   {
    "duration": 5,
    "start_time": "2025-02-01T15:42:32.675Z"
   },
   {
    "duration": 25,
    "start_time": "2025-02-01T15:42:32.681Z"
   },
   {
    "duration": 8,
    "start_time": "2025-02-01T15:42:32.707Z"
   },
   {
    "duration": 10,
    "start_time": "2025-02-01T15:46:21.975Z"
   },
   {
    "duration": 206,
    "start_time": "2025-02-01T15:57:17.848Z"
   },
   {
    "duration": 176,
    "start_time": "2025-02-01T16:01:05.399Z"
   },
   {
    "duration": 811,
    "start_time": "2025-02-01T20:06:35.071Z"
   },
   {
    "duration": 13,
    "start_time": "2025-02-01T20:06:35.884Z"
   },
   {
    "duration": 13,
    "start_time": "2025-02-01T20:06:35.898Z"
   },
   {
    "duration": 9,
    "start_time": "2025-02-01T20:06:35.914Z"
   },
   {
    "duration": 10,
    "start_time": "2025-02-01T20:06:35.925Z"
   },
   {
    "duration": 10,
    "start_time": "2025-02-01T20:06:35.937Z"
   },
   {
    "duration": 5,
    "start_time": "2025-02-01T20:06:35.949Z"
   },
   {
    "duration": 242,
    "start_time": "2025-02-01T20:06:35.955Z"
   },
   {
    "duration": 5,
    "start_time": "2025-02-01T20:06:36.199Z"
   },
   {
    "duration": 168,
    "start_time": "2025-02-01T20:06:36.207Z"
   },
   {
    "duration": 591,
    "start_time": "2025-02-01T20:55:45.590Z"
   },
   {
    "duration": 14,
    "start_time": "2025-02-01T21:00:21.966Z"
   },
   {
    "duration": 20,
    "start_time": "2025-02-01T21:09:24.629Z"
   },
   {
    "duration": 821,
    "start_time": "2025-02-01T21:09:53.232Z"
   },
   {
    "duration": 14,
    "start_time": "2025-02-01T21:09:54.055Z"
   },
   {
    "duration": 11,
    "start_time": "2025-02-01T21:09:54.070Z"
   },
   {
    "duration": 21,
    "start_time": "2025-02-01T21:09:54.084Z"
   },
   {
    "duration": 9,
    "start_time": "2025-02-01T21:09:54.106Z"
   },
   {
    "duration": 10,
    "start_time": "2025-02-01T21:09:54.116Z"
   },
   {
    "duration": 4,
    "start_time": "2025-02-01T21:09:54.127Z"
   },
   {
    "duration": 227,
    "start_time": "2025-02-01T21:09:54.135Z"
   },
   {
    "duration": 5,
    "start_time": "2025-02-01T21:09:54.364Z"
   },
   {
    "duration": 158,
    "start_time": "2025-02-01T21:09:54.372Z"
   },
   {
    "duration": 10,
    "start_time": "2025-02-01T21:09:54.532Z"
   },
   {
    "duration": 869,
    "start_time": "2025-02-01T21:39:59.623Z"
   },
   {
    "duration": 18,
    "start_time": "2025-02-01T21:40:00.494Z"
   },
   {
    "duration": 10,
    "start_time": "2025-02-01T21:40:00.515Z"
   },
   {
    "duration": 9,
    "start_time": "2025-02-01T21:40:00.527Z"
   },
   {
    "duration": 9,
    "start_time": "2025-02-01T21:40:00.537Z"
   },
   {
    "duration": 8,
    "start_time": "2025-02-01T21:40:00.548Z"
   },
   {
    "duration": 4,
    "start_time": "2025-02-01T21:40:00.558Z"
   },
   {
    "duration": 233,
    "start_time": "2025-02-01T21:40:00.564Z"
   },
   {
    "duration": 5,
    "start_time": "2025-02-01T21:40:00.799Z"
   },
   {
    "duration": 164,
    "start_time": "2025-02-01T21:40:00.806Z"
   },
   {
    "duration": 10,
    "start_time": "2025-02-01T21:40:00.971Z"
   },
   {
    "duration": 782,
    "start_time": "2025-02-01T21:40:37.217Z"
   },
   {
    "duration": 13,
    "start_time": "2025-02-01T21:40:38.001Z"
   },
   {
    "duration": 11,
    "start_time": "2025-02-01T21:40:38.015Z"
   },
   {
    "duration": 9,
    "start_time": "2025-02-01T21:40:38.028Z"
   },
   {
    "duration": 9,
    "start_time": "2025-02-01T21:40:38.039Z"
   },
   {
    "duration": 10,
    "start_time": "2025-02-01T21:40:38.049Z"
   },
   {
    "duration": 4,
    "start_time": "2025-02-01T21:40:38.061Z"
   },
   {
    "duration": 243,
    "start_time": "2025-02-01T21:40:38.067Z"
   },
   {
    "duration": 5,
    "start_time": "2025-02-01T21:40:38.311Z"
   },
   {
    "duration": 169,
    "start_time": "2025-02-01T21:40:38.319Z"
   },
   {
    "duration": 19,
    "start_time": "2025-02-01T21:40:38.490Z"
   },
   {
    "duration": 865,
    "start_time": "2025-02-01T21:42:52.040Z"
   },
   {
    "duration": 13,
    "start_time": "2025-02-01T21:42:52.910Z"
   },
   {
    "duration": 11,
    "start_time": "2025-02-01T21:42:52.925Z"
   },
   {
    "duration": 9,
    "start_time": "2025-02-01T21:42:52.938Z"
   },
   {
    "duration": 10,
    "start_time": "2025-02-01T21:42:52.950Z"
   },
   {
    "duration": 9,
    "start_time": "2025-02-01T21:42:52.962Z"
   },
   {
    "duration": 5,
    "start_time": "2025-02-01T21:42:52.973Z"
   },
   {
    "duration": 242,
    "start_time": "2025-02-01T21:42:52.979Z"
   },
   {
    "duration": 5,
    "start_time": "2025-02-01T21:42:53.223Z"
   },
   {
    "duration": 160,
    "start_time": "2025-02-01T21:42:53.229Z"
   },
   {
    "duration": 17,
    "start_time": "2025-02-01T21:42:53.391Z"
   },
   {
    "duration": 874,
    "start_time": "2025-02-01T21:43:41.087Z"
   },
   {
    "duration": 11,
    "start_time": "2025-02-01T21:43:41.963Z"
   },
   {
    "duration": 11,
    "start_time": "2025-02-01T21:43:41.975Z"
   },
   {
    "duration": 18,
    "start_time": "2025-02-01T21:43:41.989Z"
   },
   {
    "duration": 12,
    "start_time": "2025-02-01T21:43:42.009Z"
   },
   {
    "duration": 17,
    "start_time": "2025-02-01T21:43:42.023Z"
   },
   {
    "duration": 5,
    "start_time": "2025-02-01T21:43:42.041Z"
   },
   {
    "duration": 253,
    "start_time": "2025-02-01T21:43:42.049Z"
   },
   {
    "duration": 8,
    "start_time": "2025-02-01T21:43:42.303Z"
   },
   {
    "duration": 195,
    "start_time": "2025-02-01T21:43:42.313Z"
   },
   {
    "duration": 10,
    "start_time": "2025-02-01T21:43:42.510Z"
   },
   {
    "duration": 916,
    "start_time": "2025-02-01T22:04:36.828Z"
   },
   {
    "duration": 20,
    "start_time": "2025-02-01T22:04:37.747Z"
   },
   {
    "duration": 10,
    "start_time": "2025-02-01T22:04:37.769Z"
   },
   {
    "duration": 10,
    "start_time": "2025-02-01T22:04:37.783Z"
   },
   {
    "duration": 17,
    "start_time": "2025-02-01T22:04:37.795Z"
   },
   {
    "duration": 16,
    "start_time": "2025-02-01T22:04:37.819Z"
   },
   {
    "duration": 7,
    "start_time": "2025-02-01T22:04:37.841Z"
   },
   {
    "duration": 283,
    "start_time": "2025-02-01T22:04:37.853Z"
   },
   {
    "duration": 11,
    "start_time": "2025-02-01T22:04:38.137Z"
   },
   {
    "duration": 189,
    "start_time": "2025-02-01T22:04:38.152Z"
   },
   {
    "duration": 15,
    "start_time": "2025-02-01T22:04:38.343Z"
   },
   {
    "duration": 825,
    "start_time": "2025-02-01T22:16:09.380Z"
   },
   {
    "duration": 14,
    "start_time": "2025-02-01T22:16:10.208Z"
   },
   {
    "duration": 10,
    "start_time": "2025-02-01T22:16:10.223Z"
   },
   {
    "duration": 9,
    "start_time": "2025-02-01T22:16:10.235Z"
   },
   {
    "duration": 10,
    "start_time": "2025-02-01T22:16:10.246Z"
   },
   {
    "duration": 9,
    "start_time": "2025-02-01T22:16:10.257Z"
   },
   {
    "duration": 5,
    "start_time": "2025-02-01T22:16:10.268Z"
   },
   {
    "duration": 251,
    "start_time": "2025-02-01T22:16:10.274Z"
   },
   {
    "duration": 5,
    "start_time": "2025-02-01T22:16:10.527Z"
   },
   {
    "duration": 165,
    "start_time": "2025-02-01T22:16:10.534Z"
   },
   {
    "duration": 12,
    "start_time": "2025-02-01T22:16:10.705Z"
   },
   {
    "duration": 804,
    "start_time": "2025-02-01T22:17:00.357Z"
   },
   {
    "duration": 11,
    "start_time": "2025-02-01T22:17:01.164Z"
   },
   {
    "duration": 10,
    "start_time": "2025-02-01T22:17:01.177Z"
   },
   {
    "duration": 22,
    "start_time": "2025-02-01T22:17:01.190Z"
   },
   {
    "duration": 9,
    "start_time": "2025-02-01T22:17:01.214Z"
   },
   {
    "duration": 8,
    "start_time": "2025-02-01T22:17:01.225Z"
   },
   {
    "duration": 4,
    "start_time": "2025-02-01T22:17:01.236Z"
   },
   {
    "duration": 251,
    "start_time": "2025-02-01T22:17:01.242Z"
   },
   {
    "duration": 5,
    "start_time": "2025-02-01T22:17:01.495Z"
   },
   {
    "duration": 181,
    "start_time": "2025-02-01T22:17:01.503Z"
   },
   {
    "duration": 21,
    "start_time": "2025-02-01T22:17:01.687Z"
   },
   {
    "duration": 801,
    "start_time": "2025-02-02T12:10:16.186Z"
   },
   {
    "duration": 22,
    "start_time": "2025-02-02T12:10:16.989Z"
   },
   {
    "duration": 10,
    "start_time": "2025-02-02T12:10:17.013Z"
   },
   {
    "duration": 9,
    "start_time": "2025-02-02T12:10:17.024Z"
   },
   {
    "duration": 12,
    "start_time": "2025-02-02T12:10:17.035Z"
   },
   {
    "duration": 12,
    "start_time": "2025-02-02T12:10:17.050Z"
   },
   {
    "duration": 4,
    "start_time": "2025-02-02T12:10:17.064Z"
   },
   {
    "duration": 268,
    "start_time": "2025-02-02T12:10:17.069Z"
   },
   {
    "duration": 4,
    "start_time": "2025-02-02T12:10:17.340Z"
   },
   {
    "duration": 165,
    "start_time": "2025-02-02T12:10:17.346Z"
   },
   {
    "duration": 10,
    "start_time": "2025-02-02T12:10:17.513Z"
   },
   {
    "duration": 5,
    "start_time": "2025-02-02T12:13:12.711Z"
   },
   {
    "duration": 4,
    "start_time": "2025-02-02T12:19:44.997Z"
   }
  ],
  "kernelspec": {
   "display_name": "Python 3 (ipykernel)",
   "language": "python",
   "name": "python3"
  },
  "language_info": {
   "codemirror_mode": {
    "name": "ipython",
    "version": 3
   },
   "file_extension": ".py",
   "mimetype": "text/x-python",
   "name": "python",
   "nbconvert_exporter": "python",
   "pygments_lexer": "ipython3",
   "version": "3.9.19"
  },
  "toc": {
   "base_numbering": 1,
   "nav_menu": {},
   "number_sections": true,
   "sideBar": true,
   "skip_h1_title": true,
   "title_cell": "Table of Contents",
   "title_sidebar": "Contents",
   "toc_cell": false,
   "toc_position": {},
   "toc_section_display": true,
   "toc_window_display": false
  }
 },
 "nbformat": 4,
 "nbformat_minor": 2
}
